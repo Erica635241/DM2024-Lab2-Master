{
 "cells": [
  {
   "cell_type": "markdown",
   "metadata": {},
   "source": [
    "# Kaggle 競賽程式碼 DM2024 ISA5810 Lab2 Homework\n",
    "### 安裝和載入必要的的套件\n",
    "\n",
    "運行環境：Kaggle GPU T4 \\times 2"
   ]
  },
  {
   "cell_type": "code",
   "execution_count": null,
   "metadata": {
    "execution": {
     "iopub.execute_input": "2024-12-07T09:55:49.830107Z",
     "iopub.status.busy": "2024-12-07T09:55:49.829822Z",
     "iopub.status.idle": "2024-12-07T09:56:16.077483Z",
     "shell.execute_reply": "2024-12-07T09:56:16.076502Z",
     "shell.execute_reply.started": "2024-12-07T09:55:49.830076Z"
    },
    "trusted": true
   },
   "outputs": [],
   "source": [
    "# 安裝必要的庫\n",
    "!pip install transformers torch xgboost scikit-learn\n",
    "\n",
    "# 載入套件\n",
    "import pandas as pd\n",
    "import numpy as np\n",
    "import torch\n",
    "from transformers import BertTokenizer, BertModel\n",
    "from sklearn.model_selection import train_test_split\n",
    "import xgboost as xgb\n",
    "from sklearn.metrics import classification_report\n",
    "import json\n",
    "import pandas as pd\n",
    "import numpy as np\n",
    "from tqdm import tqdm"
   ]
  },
  {
   "cell_type": "markdown",
   "metadata": {},
   "source": [
    "---\n",
    "## 資料前處理"
   ]
  },
  {
   "cell_type": "markdown",
   "metadata": {},
   "source": [
    "### 讀入資料競賽資料"
   ]
  },
  {
   "cell_type": "code",
   "execution_count": 2,
   "metadata": {
    "execution": {
     "iopub.execute_input": "2024-12-07T09:56:16.079638Z",
     "iopub.status.busy": "2024-12-07T09:56:16.079147Z",
     "iopub.status.idle": "2024-12-07T09:56:45.531806Z",
     "shell.execute_reply": "2024-12-07T09:56:45.530814Z",
     "shell.execute_reply.started": "2024-12-07T09:56:16.079608Z"
    },
    "trusted": true
   },
   "outputs": [],
   "source": [
    "data = []\n",
    "with open('/kaggle/input/dm-2024-isa-5810-lab-2-homework/tweets_DM.json', 'r') as f:\n",
    "    for line in f:\n",
    "        data.append(json.loads(line))\n",
    "f.close()\n",
    "\n",
    "emotion = pd.read_csv('/kaggle/input/dm-2024-isa-5810-lab-2-homework/emotion.csv')\n",
    "data_identification = pd.read_csv('/kaggle/input/dm-2024-isa-5810-lab-2-homework/data_identification.csv')"
   ]
  },
  {
   "cell_type": "markdown",
   "metadata": {},
   "source": [
    "### 選擇有用的資料並且建立成 dataframe\n"
   ]
  },
  {
   "cell_type": "code",
   "execution_count": 3,
   "metadata": {
    "execution": {
     "iopub.execute_input": "2024-12-07T09:56:45.533182Z",
     "iopub.status.busy": "2024-12-07T09:56:45.532897Z",
     "iopub.status.idle": "2024-12-07T09:56:54.057032Z",
     "shell.execute_reply": "2024-12-07T09:56:54.056345Z",
     "shell.execute_reply.started": "2024-12-07T09:56:45.533155Z"
    },
    "trusted": true
   },
   "outputs": [],
   "source": [
    "df = pd.DataFrame(data)\n",
    "_source = df['_source'].apply(lambda x: x['tweet'])\n",
    "df = pd.DataFrame({\n",
    "    'tweet_id': _source.apply(lambda x: x['tweet_id']),\n",
    "    'hashtags': _source.apply(lambda x: x['hashtags']),\n",
    "    'text': _source.apply(lambda x: x['text']),\n",
    "})\n",
    "df = df.merge(data_identification, on='tweet_id', how='left')\n",
    "train_data = df[df['identification'] == 'train']"
   ]
  },
  {
   "cell_type": "code",
   "execution_count": 4,
   "metadata": {
    "execution": {
     "iopub.execute_input": "2024-12-07T09:56:54.059014Z",
     "iopub.status.busy": "2024-12-07T09:56:54.058743Z",
     "iopub.status.idle": "2024-12-07T09:56:54.075538Z",
     "shell.execute_reply": "2024-12-07T09:56:54.074823Z",
     "shell.execute_reply.started": "2024-12-07T09:56:54.058988Z"
    },
    "trusted": true
   },
   "outputs": [
    {
     "data": {
      "text/html": [
       "<div>\n",
       "<style scoped>\n",
       "    .dataframe tbody tr th:only-of-type {\n",
       "        vertical-align: middle;\n",
       "    }\n",
       "\n",
       "    .dataframe tbody tr th {\n",
       "        vertical-align: top;\n",
       "    }\n",
       "\n",
       "    .dataframe thead th {\n",
       "        text-align: right;\n",
       "    }\n",
       "</style>\n",
       "<table border=\"1\" class=\"dataframe\">\n",
       "  <thead>\n",
       "    <tr style=\"text-align: right;\">\n",
       "      <th></th>\n",
       "      <th>tweet_id</th>\n",
       "      <th>hashtags</th>\n",
       "      <th>text</th>\n",
       "      <th>identification</th>\n",
       "    </tr>\n",
       "  </thead>\n",
       "  <tbody>\n",
       "    <tr>\n",
       "      <th>0</th>\n",
       "      <td>0x376b20</td>\n",
       "      <td>[Snapchat]</td>\n",
       "      <td>People who post \"add me on #Snapchat\" must be ...</td>\n",
       "      <td>train</td>\n",
       "    </tr>\n",
       "    <tr>\n",
       "      <th>1</th>\n",
       "      <td>0x2d5350</td>\n",
       "      <td>[freepress, TrumpLegacy, CNN]</td>\n",
       "      <td>@brianklaas As we see, Trump is dangerous to #...</td>\n",
       "      <td>train</td>\n",
       "    </tr>\n",
       "    <tr>\n",
       "      <th>3</th>\n",
       "      <td>0x1cd5b0</td>\n",
       "      <td>[]</td>\n",
       "      <td>Now ISSA is stalking Tasha 😂😂😂 &lt;LH&gt;</td>\n",
       "      <td>train</td>\n",
       "    </tr>\n",
       "    <tr>\n",
       "      <th>5</th>\n",
       "      <td>0x1d755c</td>\n",
       "      <td>[authentic, LaughOutLoud]</td>\n",
       "      <td>@RISKshow @TheKevinAllison Thx for the BEST TI...</td>\n",
       "      <td>train</td>\n",
       "    </tr>\n",
       "    <tr>\n",
       "      <th>6</th>\n",
       "      <td>0x2c91a8</td>\n",
       "      <td>[]</td>\n",
       "      <td>Still waiting on those supplies Liscus. &lt;LH&gt;</td>\n",
       "      <td>train</td>\n",
       "    </tr>\n",
       "    <tr>\n",
       "      <th>...</th>\n",
       "      <td>...</td>\n",
       "      <td>...</td>\n",
       "      <td>...</td>\n",
       "      <td>...</td>\n",
       "    </tr>\n",
       "    <tr>\n",
       "      <th>1867526</th>\n",
       "      <td>0x321566</td>\n",
       "      <td>[NoWonder, Happy]</td>\n",
       "      <td>I'm SO HAPPY!!! #NoWonder the name of this sho...</td>\n",
       "      <td>train</td>\n",
       "    </tr>\n",
       "    <tr>\n",
       "      <th>1867527</th>\n",
       "      <td>0x38959e</td>\n",
       "      <td>[]</td>\n",
       "      <td>In every circumtance I'd like to be thankful t...</td>\n",
       "      <td>train</td>\n",
       "    </tr>\n",
       "    <tr>\n",
       "      <th>1867528</th>\n",
       "      <td>0x2cbca6</td>\n",
       "      <td>[blessyou]</td>\n",
       "      <td>there's currently two girls walking around the...</td>\n",
       "      <td>train</td>\n",
       "    </tr>\n",
       "    <tr>\n",
       "      <th>1867533</th>\n",
       "      <td>0x24faed</td>\n",
       "      <td>[]</td>\n",
       "      <td>Ah, corporate life, where you can date &lt;LH&gt; us...</td>\n",
       "      <td>train</td>\n",
       "    </tr>\n",
       "    <tr>\n",
       "      <th>1867534</th>\n",
       "      <td>0x34be8c</td>\n",
       "      <td>[Sundayvibes]</td>\n",
       "      <td>Blessed to be living #Sundayvibes &lt;LH&gt;</td>\n",
       "      <td>train</td>\n",
       "    </tr>\n",
       "  </tbody>\n",
       "</table>\n",
       "<p>1455563 rows × 4 columns</p>\n",
       "</div>"
      ],
      "text/plain": [
       "         tweet_id                       hashtags  \\\n",
       "0        0x376b20                     [Snapchat]   \n",
       "1        0x2d5350  [freepress, TrumpLegacy, CNN]   \n",
       "3        0x1cd5b0                             []   \n",
       "5        0x1d755c      [authentic, LaughOutLoud]   \n",
       "6        0x2c91a8                             []   \n",
       "...           ...                            ...   \n",
       "1867526  0x321566              [NoWonder, Happy]   \n",
       "1867527  0x38959e                             []   \n",
       "1867528  0x2cbca6                     [blessyou]   \n",
       "1867533  0x24faed                             []   \n",
       "1867534  0x34be8c                  [Sundayvibes]   \n",
       "\n",
       "                                                      text identification  \n",
       "0        People who post \"add me on #Snapchat\" must be ...          train  \n",
       "1        @brianklaas As we see, Trump is dangerous to #...          train  \n",
       "3                      Now ISSA is stalking Tasha 😂😂😂 <LH>          train  \n",
       "5        @RISKshow @TheKevinAllison Thx for the BEST TI...          train  \n",
       "6             Still waiting on those supplies Liscus. <LH>          train  \n",
       "...                                                    ...            ...  \n",
       "1867526  I'm SO HAPPY!!! #NoWonder the name of this sho...          train  \n",
       "1867527  In every circumtance I'd like to be thankful t...          train  \n",
       "1867528  there's currently two girls walking around the...          train  \n",
       "1867533  Ah, corporate life, where you can date <LH> us...          train  \n",
       "1867534             Blessed to be living #Sundayvibes <LH>          train  \n",
       "\n",
       "[1455563 rows x 4 columns]"
      ]
     },
     "execution_count": 4,
     "metadata": {},
     "output_type": "execute_result"
    }
   ],
   "source": [
    "train_data"
   ]
  },
  {
   "cell_type": "markdown",
   "metadata": {},
   "source": [
    "### 處理資料合併問題"
   ]
  },
  {
   "cell_type": "code",
   "execution_count": 5,
   "metadata": {
    "execution": {
     "iopub.execute_input": "2024-12-07T09:56:54.076716Z",
     "iopub.status.busy": "2024-12-07T09:56:54.076467Z",
     "iopub.status.idle": "2024-12-07T09:56:57.255534Z",
     "shell.execute_reply": "2024-12-07T09:56:57.254800Z",
     "shell.execute_reply.started": "2024-12-07T09:56:54.076691Z"
    },
    "trusted": true
   },
   "outputs": [],
   "source": [
    "train_data = train_data.merge(emotion, on='tweet_id', how='left') # Merge emotion for corresponding tweet_id\n",
    "train_data.drop_duplicates(subset=['text'], keep=False, inplace=True) # Remove duplication \n",
    "train_data_sample = train_data.sample(frac=0.1) # Get sample\n",
    "y_train_data = train_data_sample['emotion']\n",
    "X_train_data = train_data_sample.drop(['tweet_id', 'emotion', 'identification'], axis=1)\n",
    "X_train_data = X_train_data['text'] + ' ' + X_train_data['hashtags'].apply(lambda x: ' '.join(x)) # Combine text and hashtags "
   ]
  },
  {
   "cell_type": "markdown",
   "metadata": {},
   "source": [
    "---\n",
    "## 準備訓練節、驗證集、測試集"
   ]
  },
  {
   "cell_type": "markdown",
   "metadata": {},
   "source": [
    "### 載入 BERT 作為 embeddings models"
   ]
  },
  {
   "cell_type": "code",
   "execution_count": null,
   "metadata": {
    "execution": {
     "iopub.execute_input": "2024-12-07T09:56:57.257536Z",
     "iopub.status.busy": "2024-12-07T09:56:57.257184Z",
     "iopub.status.idle": "2024-12-07T09:57:00.641409Z",
     "shell.execute_reply": "2024-12-07T09:57:00.640439Z",
     "shell.execute_reply.started": "2024-12-07T09:56:57.257498Z"
    },
    "trusted": true
   },
   "outputs": [],
   "source": [
    "# 設置 BERT 模型和 tokenizer\n",
    "tokenizer = BertTokenizer.from_pretrained('bert-base-uncased')\n",
    "model = BertModel.from_pretrained('bert-base-uncased')\n",
    "model = model.to('cuda')  # 移動到 GPU\n",
    "\n",
    "# 將文字轉為 bert embeddings \n",
    "def get_bert_embeddings(texts):\n",
    "    embeddings = []\n",
    "    for text in tqdm(texts):\n",
    "        inputs = tokenizer(text, return_tensors='pt', padding=True, truncation=True, max_length=512)\n",
    "        inputs = {key: value.to('cuda') for key, value in inputs.items()}  # 移動到 GPU\n",
    "        with torch.no_grad():\n",
    "            outputs = model(**inputs)\n",
    "        cls_embedding = outputs.last_hidden_state[:, 0, :].cpu().numpy()  # 獲取 [CLS] token 的嵌入\n",
    "        embeddings.append(cls_embedding)\n",
    "    return np.vstack(embeddings)"
   ]
  },
  {
   "cell_type": "markdown",
   "metadata": {},
   "source": [
    "### 將非結構資料由 BERT 轉乘結構型資料"
   ]
  },
  {
   "cell_type": "code",
   "execution_count": null,
   "metadata": {
    "execution": {
     "iopub.execute_input": "2024-12-07T09:57:00.642805Z",
     "iopub.status.busy": "2024-12-07T09:57:00.642556Z",
     "iopub.status.idle": "2024-12-07T09:57:00.648327Z",
     "shell.execute_reply": "2024-12-07T09:57:00.647459Z",
     "shell.execute_reply.started": "2024-12-07T09:57:00.642780Z"
    },
    "trusted": true
   },
   "outputs": [
    {
     "data": {
      "text/plain": [
       "'\\n# 建立 X, Y\\nX = get_bert_embeddings(X_train_data.values)\\ncategory_to_symbol = {\\n    \\'anticipation\\': 0, \"joy\": 1, \\'fear\\': 2, \\'sadness\\': 3, \\'disgust\\': 4, \\'trust\\': 5,\\n           \\'surprise\\': 6, \\'anger\\': 7\\n}\\ny_train_data = y_train_data.map(category_to_symbol)\\ny = y_train_data.values\\n'"
      ]
     },
     "execution_count": 7,
     "metadata": {},
     "output_type": "execute_result"
    }
   ],
   "source": [
    "# 建立 X, Y\n",
    "X = get_bert_embeddings(X_train_data.values)\n",
    "category_to_symbol = {\n",
    "    'anticipation': 0, \"joy\": 1, 'fear': 2, 'sadness': 3, 'disgust': 4, 'trust': 5,\n",
    "           'surprise': 6, 'anger': 7\n",
    "}\n",
    "y_train_data = y_train_data.map(category_to_symbol)\n",
    "y = y_train_data.values\n"
   ]
  },
  {
   "cell_type": "markdown",
   "metadata": {},
   "source": [
    "---\n",
    "## 訓練"
   ]
  },
  {
   "cell_type": "code",
   "execution_count": null,
   "metadata": {
    "execution": {
     "iopub.execute_input": "2024-12-07T09:57:00.649547Z",
     "iopub.status.busy": "2024-12-07T09:57:00.649304Z",
     "iopub.status.idle": "2024-12-07T09:57:00.661441Z",
     "shell.execute_reply": "2024-12-07T09:57:00.660684Z",
     "shell.execute_reply.started": "2024-12-07T09:57:00.649523Z"
    },
    "trusted": true
   },
   "outputs": [],
   "source": [
    "# 划分訓練和測試集以及使用 DMatrix 建立 XGboost 的架構\n",
    "X_train, X_val, y_train, y_val = train_test_split(X, y, test_size=0.2, random_state=42)\n",
    "dtrain = xgb.DMatrix(X_train, label=y_train)\n",
    "dval = xgb.DMatrix(X_val, label=y_val)\n",
    "\n",
    "# 設定 XGBoost 參數\n",
    "params = {\n",
    "   'objective': 'multi:softmax',\n",
    "    'num_class': len(np.unique(y)),\n",
    "    'max_depth': 5,\n",
    "    'eta': 0.1,\n",
    "    'n_estimators': 100,\n",
    "    'min_child_weight': 1,\n",
    "    'subsample': 0.8,\n",
    "    'colsample_bytree': 0.8,\n",
    "    'eval_metric': 'mlogloss',\n",
    "}\n",
    "\n",
    "# 訓練 XGboost \n",
    "bst = xgb.train(params, dtrain, num_boost_round=100, evals=[(dval, 'eval')], early_stopping_rounds=10)\n"
   ]
  },
  {
   "cell_type": "code",
   "execution_count": null,
   "metadata": {
    "execution": {
     "iopub.execute_input": "2024-12-07T09:57:00.662994Z",
     "iopub.status.busy": "2024-12-07T09:57:00.662448Z",
     "iopub.status.idle": "2024-12-07T09:57:00.670384Z",
     "shell.execute_reply": "2024-12-07T09:57:00.669614Z",
     "shell.execute_reply.started": "2024-12-07T09:57:00.662967Z"
    },
    "trusted": true
   },
   "outputs": [],
   "source": [
    "# 保存模型並且進行預測驗證集\n",
    "bst.save_model('my_xgb_model.json')  # 可以使用.json或.bin等格式\n",
    "y_pred = bst.predict(dval)\n",
    "print(classification_report(y_val, y_pred))"
   ]
  },
  {
   "cell_type": "markdown",
   "metadata": {},
   "source": [
    "---\n",
    "## 對測試集進行預測並輸出"
   ]
  },
  {
   "cell_type": "code",
   "execution_count": 10,
   "metadata": {
    "execution": {
     "iopub.execute_input": "2024-12-07T09:57:00.673181Z",
     "iopub.status.busy": "2024-12-07T09:57:00.672899Z",
     "iopub.status.idle": "2024-12-07T09:57:00.831763Z",
     "shell.execute_reply": "2024-12-07T09:57:00.830775Z",
     "shell.execute_reply.started": "2024-12-07T09:57:00.673157Z"
    },
    "trusted": true
   },
   "outputs": [],
   "source": [
    "loaded_model = xgb.Booster()\n",
    "loaded_model.load_model('/kaggle/input/xgboost_twitter/scikitlearn/default/1/my_xgb_model.json')  # 載入模型"
   ]
  },
  {
   "cell_type": "code",
   "execution_count": 11,
   "metadata": {
    "execution": {
     "iopub.execute_input": "2024-12-07T09:57:00.833171Z",
     "iopub.status.busy": "2024-12-07T09:57:00.832855Z",
     "iopub.status.idle": "2024-12-07T10:50:49.857446Z",
     "shell.execute_reply": "2024-12-07T10:50:49.856575Z",
     "shell.execute_reply.started": "2024-12-07T09:57:00.833143Z"
    },
    "trusted": true
   },
   "outputs": [
    {
     "name": "stderr",
     "output_type": "stream",
     "text": [
      "100%|██████████| 411972/411972 [53:43<00:00, 127.80it/s]\n"
     ]
    }
   ],
   "source": [
    "# Get the test data from df\n",
    "test_data = df[df['identification'] == 'test'] \n",
    "X_test_data = test_data.drop(['tweet_id', 'identification'], axis=1)\n",
    "X_test_data = X_test_data['text'] + ' ' + X_test_data['hashtags'].apply(lambda x: ' '.join(x))\n",
    "X_test_embeddings = get_bert_embeddings(X_test_data.values)\n",
    "dtest = xgb.DMatrix(X_test_embeddings)"
   ]
  },
  {
   "cell_type": "code",
   "execution_count": 12,
   "metadata": {
    "execution": {
     "iopub.execute_input": "2024-12-07T10:50:49.859155Z",
     "iopub.status.busy": "2024-12-07T10:50:49.858776Z",
     "iopub.status.idle": "2024-12-07T10:50:54.050143Z",
     "shell.execute_reply": "2024-12-07T10:50:54.049108Z",
     "shell.execute_reply.started": "2024-12-07T10:50:49.859116Z"
    },
    "trusted": true
   },
   "outputs": [],
   "source": [
    "y_test_pred = loaded_model.predict(dtest)\n",
    "y_test_pred_series = pd.Series(y_test_pred)\n",
    "category_to_symbol = {\n",
    "    'anticipation': 0, \"joy\": 1, 'fear': 2, 'sadness': 3, 'disgust': 4, 'trust': 5,\n",
    "           'surprise': 6, 'anger': 7\n",
    "}\n",
    "# 創建反向映射字典\n",
    "symbol_to_category = {v: k for k, v in category_to_symbol.items()}\n",
    "# 轉換成原先的標籤\n",
    "y_test_pred_series = y_test_pred_series.map(symbol_to_category)"
   ]
  },
  {
   "cell_type": "code",
   "execution_count": 36,
   "metadata": {
    "execution": {
     "iopub.execute_input": "2024-12-07T11:11:28.002826Z",
     "iopub.status.busy": "2024-12-07T11:11:28.001996Z",
     "iopub.status.idle": "2024-12-07T11:11:28.402602Z",
     "shell.execute_reply": "2024-12-07T11:11:28.401756Z",
     "shell.execute_reply.started": "2024-12-07T11:11:28.002794Z"
    },
    "trusted": true
   },
   "outputs": [],
   "source": [
    "submission = pd.DataFrame({\n",
    "    'id': test_data['tweet_id'].values,\n",
    "    'emotion': y_test_pred_series.values\n",
    "})\n",
    "submission.to_csv('/kaggle/working/submission.csv', index=False)"
   ]
  },
  {
   "cell_type": "code",
   "execution_count": 37,
   "metadata": {
    "execution": {
     "iopub.execute_input": "2024-12-07T11:12:30.695437Z",
     "iopub.status.busy": "2024-12-07T11:12:30.694672Z",
     "iopub.status.idle": "2024-12-07T11:12:30.702972Z",
     "shell.execute_reply": "2024-12-07T11:12:30.702089Z",
     "shell.execute_reply.started": "2024-12-07T11:12:30.695402Z"
    },
    "trusted": true
   },
   "outputs": [
    {
     "data": {
      "text/html": [
       "<div>\n",
       "<style scoped>\n",
       "    .dataframe tbody tr th:only-of-type {\n",
       "        vertical-align: middle;\n",
       "    }\n",
       "\n",
       "    .dataframe tbody tr th {\n",
       "        vertical-align: top;\n",
       "    }\n",
       "\n",
       "    .dataframe thead th {\n",
       "        text-align: right;\n",
       "    }\n",
       "</style>\n",
       "<table border=\"1\" class=\"dataframe\">\n",
       "  <thead>\n",
       "    <tr style=\"text-align: right;\">\n",
       "      <th></th>\n",
       "      <th>id</th>\n",
       "      <th>emotion</th>\n",
       "    </tr>\n",
       "  </thead>\n",
       "  <tbody>\n",
       "    <tr>\n",
       "      <th>0</th>\n",
       "      <td>0x28b412</td>\n",
       "      <td>anticipation</td>\n",
       "    </tr>\n",
       "    <tr>\n",
       "      <th>1</th>\n",
       "      <td>0x2de201</td>\n",
       "      <td>joy</td>\n",
       "    </tr>\n",
       "    <tr>\n",
       "      <th>2</th>\n",
       "      <td>0x218443</td>\n",
       "      <td>joy</td>\n",
       "    </tr>\n",
       "    <tr>\n",
       "      <th>3</th>\n",
       "      <td>0x2939d5</td>\n",
       "      <td>anticipation</td>\n",
       "    </tr>\n",
       "    <tr>\n",
       "      <th>4</th>\n",
       "      <td>0x26289a</td>\n",
       "      <td>trust</td>\n",
       "    </tr>\n",
       "  </tbody>\n",
       "</table>\n",
       "</div>"
      ],
      "text/plain": [
       "         id       emotion\n",
       "0  0x28b412  anticipation\n",
       "1  0x2de201           joy\n",
       "2  0x218443           joy\n",
       "3  0x2939d5  anticipation\n",
       "4  0x26289a         trust"
      ]
     },
     "execution_count": 37,
     "metadata": {},
     "output_type": "execute_result"
    }
   ],
   "source": [
    "submission.head()"
   ]
  }
 ],
 "metadata": {
  "kaggle": {
   "accelerator": "nvidiaTeslaT4",
   "dataSources": [
    {
     "databundleVersionId": 9912598,
     "sourceId": 87232,
     "sourceType": "competition"
    },
    {
     "modelId": 185378,
     "modelInstanceId": 163018,
     "sourceId": 191243,
     "sourceType": "modelInstanceVersion"
    }
   ],
   "dockerImageVersionId": 30805,
   "isGpuEnabled": true,
   "isInternetEnabled": true,
   "language": "python",
   "sourceType": "notebook"
  },
  "kernelspec": {
   "display_name": "Python 3",
   "language": "python",
   "name": "python3"
  },
  "language_info": {
   "codemirror_mode": {
    "name": "ipython",
    "version": 3
   },
   "file_extension": ".py",
   "mimetype": "text/x-python",
   "name": "python",
   "nbconvert_exporter": "python",
   "pygments_lexer": "ipython3",
   "version": "3.10.14"
  }
 },
 "nbformat": 4,
 "nbformat_minor": 4
}
